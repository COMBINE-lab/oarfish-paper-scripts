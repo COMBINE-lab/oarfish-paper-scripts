{
 "cells": [
  {
   "cell_type": "code",
   "execution_count": 5,
   "id": "85538956",
   "metadata": {},
   "outputs": [],
   "source": [
    "import pandas as pd\n",
    "import numpy as np\n",
    "import matplotlib.pyplot as plt"
   ]
  },
  {
   "cell_type": "code",
   "execution_count": 6,
   "id": "3ad56e39",
   "metadata": {},
   "outputs": [],
   "source": [
    "#read in bootstrap values of benchmarking dataset"
   ]
  },
  {
   "cell_type": "code",
   "execution_count": 7,
   "id": "941d76d6",
   "metadata": {},
   "outputs": [],
   "source": [
    "boot_Hct116 = pd.read_csv(\"/mnt/scratch2/zahra/exp_quant_time/Hct116_quant/short_read/Hct116_31/aux_info/bootstrap/quant_bootstraps.tsv\", sep=\"\\t\")"
   ]
  },
  {
   "cell_type": "code",
   "execution_count": 8,
   "id": "36e90fe7",
   "metadata": {},
   "outputs": [],
   "source": [
    "boot_Hct116 = boot_Hct116.T"
   ]
  },
  {
   "cell_type": "code",
   "execution_count": 9,
   "id": "cfd8065d",
   "metadata": {},
   "outputs": [],
   "source": [
    "row_variances = boot_Hct116.var(axis=1)\n",
    "row_means = boot_Hct116.mean(axis=1)"
   ]
  },
  {
   "cell_type": "code",
   "execution_count": 10,
   "id": "d48bda38",
   "metadata": {},
   "outputs": [],
   "source": [
    "row_variances = np.array(row_variances)\n",
    "row_means = np.array(row_means)\n",
    "\n",
    "# Calculate InfRV with a condition to handle row_means equal to zero\n",
    "infRV_Hct116 = np.zeros_like(row_means)  # Initialize with zeros\n",
    "\n",
    "infRV_Hct116 = np.maximum(row_variances - row_means, 0) / (row_means + 5)\n",
    "infRV_Hct116 = infRV_Hct116 + 0.01"
   ]
  },
  {
   "cell_type": "code",
   "execution_count": 11,
   "id": "106da45c",
   "metadata": {},
   "outputs": [],
   "source": [
    "infRV_Hct116_df = {}\n",
    "infRV_Hct116_df[\"Txp\"] = boot_Hct116.index\n",
    "infRV_Hct116_df[\"infRV\"] = infRV_Hct116\n",
    "infRV_Hct116_df[\"mean\"] = row_means\n",
    "infRV_Hct116_df[\"variance\"] = row_variances\n",
    "infRV_Hct116_df = pd.DataFrame(infRV_Hct116_df)"
   ]
  },
  {
   "cell_type": "code",
   "execution_count": 12,
   "id": "5d30a2be",
   "metadata": {},
   "outputs": [],
   "source": [
    "infRV_Hct116_df.to_csv('/mnt/scratch2/zahra/exp_quant_time/Hct116_quant/short_read/Hct116_31/aux_info/bootstrap/txp_infRV.csv', index=False, sep=\"\\t\")"
   ]
  }
 ],
 "metadata": {
  "kernelspec": {
   "display_name": "CoveragePattern",
   "language": "python",
   "name": "coveragepattern"
  },
  "language_info": {
   "codemirror_mode": {
    "name": "ipython",
    "version": 3
   },
   "file_extension": ".py",
   "mimetype": "text/x-python",
   "name": "python",
   "nbconvert_exporter": "python",
   "pygments_lexer": "ipython3",
   "version": "3.11.9"
  }
 },
 "nbformat": 4,
 "nbformat_minor": 5
}
