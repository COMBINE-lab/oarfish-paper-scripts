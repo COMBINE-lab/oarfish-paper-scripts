{
 "cells": [
  {
   "cell_type": "code",
   "execution_count": 2,
   "id": "85538956",
   "metadata": {},
   "outputs": [],
   "source": [
    "import pandas as pd\n",
    "import numpy as np\n",
    "import matplotlib.pyplot as plt"
   ]
  },
  {
   "cell_type": "code",
   "execution_count": 3,
   "id": "3ad56e39",
   "metadata": {},
   "outputs": [],
   "source": [
    "#read in bootstrap values of benchmarking dataset"
   ]
  },
  {
   "cell_type": "code",
   "execution_count": 5,
   "id": "941d76d6",
   "metadata": {},
   "outputs": [],
   "source": [
    "boot_uhrr = pd.read_csv(\"/mnt/scratch2/zahra/exp_quant_time/uhrr_quant/short_read/repA_1/aux_info/bootstrap/quant_bootstraps.tsv\", sep=\"\\t\")"
   ]
  },
  {
   "cell_type": "code",
   "execution_count": 6,
   "id": "36e90fe7",
   "metadata": {},
   "outputs": [],
   "source": [
    "boot_uhrr = boot_uhrr.T"
   ]
  },
  {
   "cell_type": "code",
   "execution_count": 7,
   "id": "cfd8065d",
   "metadata": {},
   "outputs": [],
   "source": [
    "row_variances = boot_uhrr.var(axis=1)\n",
    "row_means = boot_uhrr.mean(axis=1)"
   ]
  },
  {
   "cell_type": "code",
   "execution_count": 8,
   "id": "d48bda38",
   "metadata": {},
   "outputs": [],
   "source": [
    "row_variances = np.array(row_variances)\n",
    "row_means = np.array(row_means)\n",
    "\n",
    "# Calculate InfRV with a condition to handle row_means equal to zero\n",
    "infRV_uhrr = np.zeros_like(row_means)  # Initialize with zeros\n",
    "\n",
    "infRV_uhrr = np.maximum(row_variances - row_means, 0) / (row_means + 5)\n",
    "infRV_uhrr = infRV_uhrr + 0.01"
   ]
  },
  {
   "cell_type": "code",
   "execution_count": 9,
   "id": "106da45c",
   "metadata": {},
   "outputs": [],
   "source": [
    "infRV_uhrr_df = {}\n",
    "infRV_uhrr_df[\"Txp\"] = boot_uhrr.index\n",
    "infRV_uhrr_df[\"infRV\"] = infRV_uhrr\n",
    "infRV_uhrr_df[\"mean\"] = row_means\n",
    "infRV_uhrr_df[\"variance\"] = row_variances\n",
    "infRV_uhrr_df = pd.DataFrame(infRV_uhrr_df)"
   ]
  },
  {
   "cell_type": "code",
   "execution_count": 10,
   "id": "5d30a2be",
   "metadata": {},
   "outputs": [],
   "source": [
    "infRV_uhrr_df.to_csv('/mnt/scratch2/zahra/exp_quant_time/uhrr_quant/short_read/repA_1/aux_info/bootstrap/txp_infRV.csv', index=False, sep=\"\\t\")"
   ]
  },
  {
   "cell_type": "code",
   "execution_count": null,
   "id": "f5627716",
   "metadata": {},
   "outputs": [],
   "source": []
  }
 ],
 "metadata": {
  "kernelspec": {
   "display_name": "CoveragePattern",
   "language": "python",
   "name": "coveragepattern"
  },
  "language_info": {
   "codemirror_mode": {
    "name": "ipython",
    "version": 3
   },
   "file_extension": ".py",
   "mimetype": "text/x-python",
   "name": "python",
   "nbconvert_exporter": "python",
   "pygments_lexer": "ipython3",
   "version": "3.11.9"
  }
 },
 "nbformat": 4,
 "nbformat_minor": 5
}
