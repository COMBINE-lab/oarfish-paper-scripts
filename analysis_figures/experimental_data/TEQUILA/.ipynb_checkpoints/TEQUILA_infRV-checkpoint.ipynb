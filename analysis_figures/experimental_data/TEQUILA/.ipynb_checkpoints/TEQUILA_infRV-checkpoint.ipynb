{
 "cells": [
  {
   "cell_type": "code",
   "execution_count": 2,
   "id": "85538956",
   "metadata": {},
   "outputs": [],
   "source": [
    "import pandas as pd\n",
    "import numpy as np\n",
    "import matplotlib.pyplot as plt"
   ]
  },
  {
   "cell_type": "code",
   "execution_count": 3,
   "id": "3ad56e39",
   "metadata": {},
   "outputs": [],
   "source": [
    "#read in bootstrap values of benchmarking dataset"
   ]
  },
  {
   "cell_type": "code",
   "execution_count": 5,
   "id": "941d76d6",
   "metadata": {},
   "outputs": [],
   "source": [
    "boot_tequila = pd.read_csv(\"/mnt/scratch2/zahra/exp_quant_time/SH-SY5Y-1_quant/short_read/aux_info/bootstrap/quant_bootstraps.tsv\", sep=\"\\t\")"
   ]
  },
  {
   "cell_type": "code",
   "execution_count": 6,
   "id": "36e90fe7",
   "metadata": {},
   "outputs": [],
   "source": [
    "boot_tequila = boot_tequila.T"
   ]
  },
  {
   "cell_type": "code",
   "execution_count": 7,
   "id": "cfd8065d",
   "metadata": {},
   "outputs": [],
   "source": [
    "row_variances = boot_tequila.var(axis=1)\n",
    "row_means = boot_tequila.mean(axis=1)"
   ]
  },
  {
   "cell_type": "code",
   "execution_count": 8,
   "id": "d48bda38",
   "metadata": {},
   "outputs": [],
   "source": [
    "row_variances = np.array(row_variances)\n",
    "row_means = np.array(row_means)\n",
    "\n",
    "# Calculate InfRV with a condition to handle row_means equal to zero\n",
    "infRV_tequila = np.zeros_like(row_means)  # Initialize with zeros\n",
    "\n",
    "infRV_tequila = np.maximum(row_variances - row_means, 0) / (row_means + 5)\n",
    "infRV_tequila = infRV_tequila + 0.01"
   ]
  },
  {
   "cell_type": "code",
   "execution_count": 9,
   "id": "106da45c",
   "metadata": {},
   "outputs": [
    {
     "data": {
      "text/html": [
       "<div>\n",
       "<style scoped>\n",
       "    .dataframe tbody tr th:only-of-type {\n",
       "        vertical-align: middle;\n",
       "    }\n",
       "\n",
       "    .dataframe tbody tr th {\n",
       "        vertical-align: top;\n",
       "    }\n",
       "\n",
       "    .dataframe thead th {\n",
       "        text-align: right;\n",
       "    }\n",
       "</style>\n",
       "<table border=\"1\" class=\"dataframe\">\n",
       "  <thead>\n",
       "    <tr style=\"text-align: right;\">\n",
       "      <th></th>\n",
       "      <th>Txp</th>\n",
       "      <th>infRV</th>\n",
       "      <th>mean</th>\n",
       "      <th>variance</th>\n",
       "    </tr>\n",
       "  </thead>\n",
       "  <tbody>\n",
       "    <tr>\n",
       "      <th>0</th>\n",
       "      <td>ENST00000456328</td>\n",
       "      <td>0.532610</td>\n",
       "      <td>5.028056</td>\n",
       "      <td>10.268822</td>\n",
       "    </tr>\n",
       "    <tr>\n",
       "      <th>1</th>\n",
       "      <td>ENST00000450305</td>\n",
       "      <td>0.010000</td>\n",
       "      <td>0.000000</td>\n",
       "      <td>0.000000</td>\n",
       "    </tr>\n",
       "    <tr>\n",
       "      <th>2</th>\n",
       "      <td>ENST00000488147</td>\n",
       "      <td>1.282096</td>\n",
       "      <td>1229.655915</td>\n",
       "      <td>2800.256993</td>\n",
       "    </tr>\n",
       "    <tr>\n",
       "      <th>3</th>\n",
       "      <td>ENST00000619216</td>\n",
       "      <td>0.010000</td>\n",
       "      <td>0.000000</td>\n",
       "      <td>0.000000</td>\n",
       "    </tr>\n",
       "    <tr>\n",
       "      <th>4</th>\n",
       "      <td>ENST00000473358</td>\n",
       "      <td>0.358309</td>\n",
       "      <td>1.523094</td>\n",
       "      <td>3.795144</td>\n",
       "    </tr>\n",
       "    <tr>\n",
       "      <th>...</th>\n",
       "      <td>...</td>\n",
       "      <td>...</td>\n",
       "      <td>...</td>\n",
       "      <td>...</td>\n",
       "    </tr>\n",
       "    <tr>\n",
       "      <th>199994</th>\n",
       "      <td>R1_12_2</td>\n",
       "      <td>0.010000</td>\n",
       "      <td>0.000000</td>\n",
       "      <td>0.000000</td>\n",
       "    </tr>\n",
       "    <tr>\n",
       "      <th>199995</th>\n",
       "      <td>R1_12_1</td>\n",
       "      <td>0.010000</td>\n",
       "      <td>0.000000</td>\n",
       "      <td>0.000000</td>\n",
       "    </tr>\n",
       "    <tr>\n",
       "      <th>199996</th>\n",
       "      <td>R2_59_1</td>\n",
       "      <td>0.010000</td>\n",
       "      <td>0.000000</td>\n",
       "      <td>0.000000</td>\n",
       "    </tr>\n",
       "    <tr>\n",
       "      <th>199997</th>\n",
       "      <td>R2_59_2</td>\n",
       "      <td>0.010000</td>\n",
       "      <td>0.000000</td>\n",
       "      <td>0.000000</td>\n",
       "    </tr>\n",
       "    <tr>\n",
       "      <th>199998</th>\n",
       "      <td>R2_59_3</td>\n",
       "      <td>0.010000</td>\n",
       "      <td>0.000000</td>\n",
       "      <td>0.000000</td>\n",
       "    </tr>\n",
       "  </tbody>\n",
       "</table>\n",
       "<p>199999 rows × 4 columns</p>\n",
       "</div>"
      ],
      "text/plain": [
       "                    Txp     infRV         mean     variance\n",
       "0       ENST00000456328  0.532610     5.028056    10.268822\n",
       "1       ENST00000450305  0.010000     0.000000     0.000000\n",
       "2       ENST00000488147  1.282096  1229.655915  2800.256993\n",
       "3       ENST00000619216  0.010000     0.000000     0.000000\n",
       "4       ENST00000473358  0.358309     1.523094     3.795144\n",
       "...                 ...       ...          ...          ...\n",
       "199994          R1_12_2  0.010000     0.000000     0.000000\n",
       "199995          R1_12_1  0.010000     0.000000     0.000000\n",
       "199996          R2_59_1  0.010000     0.000000     0.000000\n",
       "199997          R2_59_2  0.010000     0.000000     0.000000\n",
       "199998          R2_59_3  0.010000     0.000000     0.000000\n",
       "\n",
       "[199999 rows x 4 columns]"
      ]
     },
     "execution_count": 9,
     "metadata": {},
     "output_type": "execute_result"
    }
   ],
   "source": [
    "infRV_tequila_df = {}\n",
    "infRV_tequila_df[\"Txp\"] = boot_tequila.index\n",
    "infRV_tequila_df[\"infRV\"] = infRV_tequila\n",
    "infRV_tequila_df[\"mean\"] = row_means\n",
    "infRV_tequila_df[\"variance\"] = row_variances\n",
    "infRV_tequila_df = pd.DataFrame(infRV_tequila_df)\n",
    "infRV_tequila_df"
   ]
  },
  {
   "cell_type": "code",
   "execution_count": 10,
   "id": "5d30a2be",
   "metadata": {},
   "outputs": [],
   "source": [
    "infRV_tequila_df.to_csv('/mnt/scratch2/zahra/exp_quant_time/SH-SY5Y-1_quant/short_read/aux_info/bootstrap/txp_infRV.csv', index=False, sep=\"\\t\")"
   ]
  },
  {
   "cell_type": "code",
   "execution_count": null,
   "id": "0d4be661",
   "metadata": {},
   "outputs": [],
   "source": []
  },
  {
   "cell_type": "code",
   "execution_count": null,
   "id": "f5627716",
   "metadata": {},
   "outputs": [],
   "source": []
  }
 ],
 "metadata": {
  "kernelspec": {
   "display_name": "CoveragePattern",
   "language": "python",
   "name": "coveragepattern"
  },
  "language_info": {
   "codemirror_mode": {
    "name": "ipython",
    "version": 3
   },
   "file_extension": ".py",
   "mimetype": "text/x-python",
   "name": "python",
   "nbconvert_exporter": "python",
   "pygments_lexer": "ipython3",
   "version": "3.11.9"
  }
 },
 "nbformat": 4,
 "nbformat_minor": 5
}
